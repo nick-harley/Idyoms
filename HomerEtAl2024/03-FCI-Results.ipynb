{
 "cells": [
  {
   "cell_type": "markdown",
   "id": "a407e97e-d8c1-4ce9-9776-7907e53928d2",
   "metadata": {},
   "source": [
    "# Idyoms Correlation with Contrast Information\n",
    "\n",
    "This notebook contains the code for computing the correlations between the different information measures as well as saving them to a chache (correlations.jld2). The "
   ]
  },
  {
   "cell_type": "code",
   "execution_count": 1,
   "id": "df21fe1a-225a-46fb-8548-57ea3060feb2",
   "metadata": {},
   "outputs": [],
   "source": [
    "using Chakra\n",
    "include(\"./Idyoms.jl\")\n",
    "using Main.Idyoms"
   ]
  },
  {
   "cell_type": "code",
   "execution_count": 2,
   "id": "14a7cb54-ecae-4202-9989-52dd36555391",
   "metadata": {},
   "outputs": [],
   "source": [
    "using Melch\n",
    "Melch.__INIT__(\"/Users/nick/Work/MelchData\")\n",
    "nova = fnd(Melch.id(0),Melch)\n",
    "melodies = pts(nova)\n",
    "sequences = [sequence(pts(mel,Melch),Melch) for mel in melodies];"
   ]
  },
  {
   "cell_type": "code",
   "execution_count": 3,
   "id": "df0fa815-a60b-47bd-b7eb-cba8d4b66310",
   "metadata": {},
   "outputs": [],
   "source": [
    "using JLD2, FileIO\n",
    "# MAKE A RESULTS CACHE\n",
    "#save(\"correlations.jld2\",\"res\",Dict())\n",
    "\n",
    "# A function which reads and writes correlation results to the results cache.\n",
    "#include(\"Cor.jl\")"
   ]
  },
  {
   "cell_type": "code",
   "execution_count": 4,
   "id": "0f473bea-6747-4afb-9c31-15bcb780b561",
   "metadata": {},
   "outputs": [],
   "source": [
    "# A dictionary which stores the correlation results\n",
    "cors = load(\"correlations.jld2\")[\"res\"];"
   ]
  },
  {
   "cell_type": "code",
   "execution_count": 5,
   "id": "45162c2a-ce00-4674-9c39-17128c8cfd05",
   "metadata": {},
   "outputs": [],
   "source": [
    "P = vp(Melch.CPITCH)\n",
    "D = vp(Melch.DUR)\n",
    "PxD = link(P,D);"
   ]
  },
  {
   "cell_type": "code",
   "execution_count": 6,
   "id": "94d09b16-ec1d-47e6-b0d5-5eb70e149602",
   "metadata": {},
   "outputs": [
    {
     "data": {
      "text/plain": [
       "false"
      ]
     },
     "execution_count": 6,
     "metadata": {},
     "output_type": "execute_result"
    }
   ],
   "source": [
    "m = Bounded(1)\n",
    "b = Backoff()\n",
    "e = C()\n",
    "u = false"
   ]
  },
  {
   "cell_type": "markdown",
   "id": "894e95db-7384-4172-9f0d-885361047052",
   "metadata": {},
   "source": [
    "# Writing correlation results to a CSV file"
   ]
  },
  {
   "cell_type": "code",
   "execution_count": 8,
   "id": "670bb615-9792-4c9f-82aa-083271898d2e",
   "metadata": {},
   "outputs": [],
   "source": [
    "res = [i*1.0 for i in 1:36*11];"
   ]
  },
  {
   "cell_type": "code",
   "execution_count": 9,
   "id": "6d0dcf57-7703-4094-bbf8-622effff64e8",
   "metadata": {},
   "outputs": [],
   "source": [
    "x = 1\n",
    "for n in 0:10\n",
    "    for i in 1:2\n",
    "        for v in [P,D,PxD]\n",
    "            for j in 1:3\n",
    "                for k in 1:2\n",
    "                    name = string(v,Bounded(n),m,b,e,u)\n",
    "                    res[x] = cors[name][i][j][k]\n",
    "                    x+=1\n",
    "                end\n",
    "            end\n",
    "        end\n",
    "    end\n",
    "end"
   ]
  },
  {
   "cell_type": "code",
   "execution_count": 10,
   "id": "8ea9bd36-81b0-4e80-8a53-34833e89b96d",
   "metadata": {},
   "outputs": [
    {
     "data": {
      "text/plain": [
       "36×11 Matrix{Float64}:\n",
       "   0.861208   0.850579    0.756947    …  0.822885  0.83765   0.8472\n",
       "   0.886008   0.858409    0.780186       0.840575  0.856817  0.868679\n",
       "   0.878515   0.855393    0.768183       0.913356  0.919754  0.924212\n",
       "   0.847121   0.839578    0.770336       0.902093  0.908251  0.912619\n",
       "   0.741473   0.68508     0.57365        0.765659  0.778384  0.787972\n",
       "   0.73924    0.685981    0.597186    …  0.760157  0.772137  0.780783\n",
       "   0.892164   0.719639    0.697687       0.750973  0.755095  0.766521\n",
       "   0.954524   0.721424    0.721359       0.753104  0.756051  0.764902\n",
       "   0.999091   0.508585    0.655847       0.839497  0.85921   0.867535\n",
       "   0.997677   0.514269    0.721051       0.819941  0.841084  0.846261\n",
       "   0.989353   0.33468     0.475178    …  0.660705  0.683271  0.69529\n",
       "   0.993951   0.381976    0.572921       0.665065  0.688758  0.693586\n",
       "  -0.831018   0.340221    0.448947       0.575498  0.658267  0.692367\n",
       "   ⋮                                  ⋱                      ⋮\n",
       "   1.0        0.35925     0.314277       0.636311  0.659921  0.672336\n",
       " NaN          0.0656347   0.142107    …  0.629776  0.653231  0.661968\n",
       " NaN         -0.482727   -0.14064        0.695095  0.756475  0.800366\n",
       " NaN         -0.564382   -0.0644228      0.665134  0.723775  0.758595\n",
       " NaN         -0.50679    -0.069188       0.521306  0.575678  0.61973\n",
       " NaN         -0.566912   -0.00837422     0.522937  0.571814  0.604145\n",
       "   1.0       -0.278601    0.0560174   …  0.680437  0.771314  0.810076\n",
       " NaN         -0.411645   -0.0033178      0.709679  0.788296  0.821081\n",
       " NaN         -0.227229    0.331568       0.681715  0.707979  0.732235\n",
       " NaN         -0.212487    0.305918       0.696697  0.721903  0.744817\n",
       " NaN         -0.159475    0.237801       0.515917  0.54232   0.567166\n",
       " NaN         -0.155092    0.228747    …  0.542973  0.568344  0.593857"
      ]
     },
     "execution_count": 10,
     "metadata": {},
     "output_type": "execute_result"
    }
   ],
   "source": [
    "output = reshape(res,(36,11))"
   ]
  },
  {
   "cell_type": "markdown",
   "id": "b81ac70c-1491-4759-807d-6793428b2ab5",
   "metadata": {},
   "source": [
    "cors.cvs is formatted in corres.numbers which was used to create the tables that appear in publication."
   ]
  },
  {
   "cell_type": "code",
   "execution_count": 12,
   "id": "a6f11513-4397-4ecf-94a3-80bfc58d4376",
   "metadata": {},
   "outputs": [],
   "source": [
    "#using DelimitedFiles\n",
    "#writedlm(\"cors.csv\", output, ',')"
   ]
  }
 ],
 "metadata": {
  "kernelspec": {
   "display_name": "Julia 1.10.4",
   "language": "julia",
   "name": "julia-1.10"
  },
  "language_info": {
   "file_extension": ".jl",
   "mimetype": "application/julia",
   "name": "julia",
   "version": "1.10.4"
  }
 },
 "nbformat": 4,
 "nbformat_minor": 5
}
